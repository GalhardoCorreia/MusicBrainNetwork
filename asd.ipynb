{
 "cells": [
  {
   "cell_type": "code",
   "execution_count": 1,
   "metadata": {},
   "outputs": [],
   "source": [
    "import numpy as np\n",
    "import pandas as pd\n",
    "\n",
    "from nilearn import datasets\n",
    "from nilearn.plotting import plot_matrix, show"
   ]
  },
  {
   "cell_type": "code",
   "execution_count": 2,
   "metadata": {},
   "outputs": [
    {
     "name": "stdout",
     "output_type": "stream",
     "text": [
      "Mask nifti images are located at: C:\\Users\\sebas/nilearn_data\\haxby2001\\mask.nii.gz\n",
      "Functional nifti images are located at: C:\\Users\\sebas/nilearn_data\\haxby2001\\subj2\\bold.nii.gz\n"
     ]
    }
   ],
   "source": [
    "haxby_dataset = datasets.fetch_haxby()\n",
    "\n",
    "# Print basic information on the dataset\n",
    "print(f\"Mask nifti images are located at: {haxby_dataset.mask}\")\n",
    "print(f\"Functional nifti images are located at: {haxby_dataset.func[0]}\")\n",
    "\n",
    "func_filename = haxby_dataset.func[0]\n",
    "mask_filename = haxby_dataset.mask\n",
    "\n",
    "# Load the behavioral data that we will predict\n",
    "labels = pd.read_csv(haxby_dataset.session_target[0], sep=\" \")\n",
    "y = labels[\"labels\"]\n",
    "run = labels[\"chunks\"]\n",
    "\n",
    "# Remove the rest condition, it is not very interesting\n",
    "non_rest = y != \"rest\"\n",
    "y = y[non_rest]\n",
    "\n",
    "# Get the labels of the numerical conditions represented by the vector y\n",
    "unique_conditions, order = np.unique(y, return_index=True)\n",
    "# Sort the conditions by the order of appearance\n",
    "unique_conditions = unique_conditions[np.argsort(order)]"
   ]
  },
  {
   "cell_type": "code",
   "execution_count": 3,
   "metadata": {},
   "outputs": [
    {
     "name": "stderr",
     "output_type": "stream",
     "text": [
      "c:\\Users\\sebas\\miniconda3\\envs\\nilearntest\\lib\\site-packages\\nilearn\\image\\resampling.py:493: UserWarning: The provided image has no sform in its header. Please check the provided file. Results may not be as expected.\n",
      "  warnings.warn(\n"
     ]
    }
   ],
   "source": [
    "from nilearn.maskers import NiftiMasker\n",
    "\n",
    "# For decoding, standardizing is often very important\n",
    "nifti_masker = NiftiMasker(\n",
    "    mask_img=mask_filename,\n",
    "    standardize=\"zscore_sample\",\n",
    "    runs=run,\n",
    "    smoothing_fwhm=4,\n",
    "    memory=\"nilearn_cache\",\n",
    "    memory_level=1,\n",
    ")\n",
    "X = nifti_masker.fit_transform(func_filename)\n",
    "\n",
    "# Remove the \"rest\" condition\n",
    "X = X[non_rest]\n",
    "run = run[non_rest]"
   ]
  }
 ],
 "metadata": {
  "kernelspec": {
   "display_name": "nilearntest",
   "language": "python",
   "name": "python3"
  },
  "language_info": {
   "codemirror_mode": {
    "name": "ipython",
    "version": 3
   },
   "file_extension": ".py",
   "mimetype": "text/x-python",
   "name": "python",
   "nbconvert_exporter": "python",
   "pygments_lexer": "ipython3",
   "version": "3.9.18"
  }
 },
 "nbformat": 4,
 "nbformat_minor": 2
}
