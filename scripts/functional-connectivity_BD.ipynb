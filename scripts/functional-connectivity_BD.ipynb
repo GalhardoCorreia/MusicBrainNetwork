{
 "cells": [
  {
   "cell_type": "markdown",
   "metadata": {},
   "source": [
    "# 0. Setup"
   ]
  },
  {
   "cell_type": "code",
   "execution_count": null,
   "metadata": {},
   "outputs": [],
   "source": [
    "import nilearn\n",
    "import pandas as pd\n",
    "import numpy as np\n",
    "import os\n",
    "\n",
    "from nilearn import plotting\n",
    "from nilearn import connectome\n",
    "\n"
   ]
  },
  {
   "cell_type": "code",
   "execution_count": null,
   "metadata": {},
   "outputs": [],
   "source": [
    "# Set the path to the data directory\n",
    "src_dir = '../data/'\n",
    "\n",
    "# Set the participant and session IDs\n",
    "part_id = 'sub-01'\n",
    "ses_id = 'ses-01'\n",
    "\n",
    "# Path to the T1w image\n",
    "anat_path = os.path.join(src_dir, part_id, ses_id, 'anat', f'{part_id}_{ses_id}_T1w.nii.gz')\n",
    "\n",
    "# Path to functional image\n",
    "funcdir_path = os.path.join(src_dir, part_id, ses_id, 'func')"
   ]
  },
  {
   "cell_type": "markdown",
   "metadata": {},
   "source": [
    "## 0.1 Anat"
   ]
  },
  {
   "cell_type": "markdown",
   "metadata": {},
   "source": [
    "from plotting import plot_anat\n",
    "\n",
    "plot_anat(anat_path, title='T1w image', display_mode='ortho', dim=-1, draw_cross=False, annotate=False, cut_coords=(0, 0, 0))\n"
   ]
  }
 ],
 "metadata": {
  "kernelspec": {
   "display_name": "nilearn",
   "language": "python",
   "name": "python3"
  },
  "language_info": {
   "name": "python",
   "version": "3.13.0"
  }
 },
 "nbformat": 4,
 "nbformat_minor": 2
}
